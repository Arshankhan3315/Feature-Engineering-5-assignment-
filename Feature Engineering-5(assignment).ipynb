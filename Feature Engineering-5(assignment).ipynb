{
 "cells": [
  {
   "cell_type": "markdown",
   "id": "b4c82b24-b4fb-4ec8-a13b-569551454278",
   "metadata": {},
   "source": [
    "# Feature Engineering-5 Assignment"
   ]
  },
  {
   "cell_type": "markdown",
   "id": "bca159eb-717b-4b2b-b57a-f241c9b282e7",
   "metadata": {},
   "source": [
    "# Q1. What is the difference between Ordinal Encoding and Label Encoding? Provide an example of when you might choose one over the other."
   ]
  },
  {
   "cell_type": "markdown",
   "id": "075fba74-2d66-4e1d-b8ff-83d3f65f6d3f",
   "metadata": {},
   "source": [
    "# Answer-1-Ordinal encoding and label encoding are both techniques used to convert categorical data into numerical format, but they differ in how they handle the encoding of the categorical variables.\n",
    "\n",
    "# Ordinal Encoding:Ordinal encoding is a type of encoding that is used when the categorical data has an inherent order or ranking among the categories. In this method, each category is assigned a unique integer value based on its position or order. For instance, categories like 'low,' 'medium,' and 'high' might be encoded as 0, 1, and 2, respectively. Ordinal encoding implies a ranked relationship between categories.\n",
    "\n",
    "# Label Encoding:Label encoding, on the other hand, is a more general technique used for converting categorical data into numerical form. It assigns a unique integer to each category without considering any inherent order or hierarchy. Each category is assigned a different integer without any ranking implication. For instance, categories like 'red,' 'green,' and 'blue' might be encoded as 0, 1, and 2, respectively.\n",
    "\n",
    "# Example:Let's consider an example of a dataset containing the education level of individuals.\n",
    "\n",
    "# Ordinal Encoding: Suppose the education levels are 'High School,' 'Associate's Degree,' 'Bachelor's Degree,' 'Master's Degree,' and 'Ph.D.' In this case, since there's a clear order among the education levels, you might choose to use ordinal encoding to represent these levels with integer values such as 0, 1, 2, 3, and 4, respectively, to maintain the hierarchy of education.\n",
    "\n",
    "# Label Encoding: If you have a different categorical feature in the same dataset, such as 'Color' with categories 'Red,' 'Green,' and 'Blue,' and there is no inherent order among these colors, label encoding would be more appropriate. Each color category would be assigned a different integer without implying any ordinal relationship among them."
   ]
  },
  {
   "cell_type": "markdown",
   "id": "705c1115-d710-48cf-926c-bc7de1f6c5d6",
   "metadata": {},
   "source": [
    "# Q2. Explain how Target Guided Ordinal Encoding works and provide an example of when you might use it in a machine learning project."
   ]
  },
  {
   "cell_type": "markdown",
   "id": "c3830430-e1be-4d83-a803-946e360b1943",
   "metadata": {},
   "source": [
    "# Answer-2-Target Guided Ordinal Encoding is a method that combines the principles of ordinal encoding with the target variable's information to assign labels to categorical variables. It involves encoding categorical variables based on the target variable, ensuring that the encoding reflects the relationship between the categories and the target variable's impact.\n",
    "\n",
    "# Here is how Target Guided Ordinal Encoding works:\n",
    "\n",
    "# Calculate the Mean/Median/Another Aggregation by Category:For each category in the categorical variable, calculate the mean, median, or other relevant aggregation of the target variable. For instance, if predicting customer churn, calculate the average churn rate for each category of a feature (like customer type or service usage).\n",
    "# Order the Categories Based on the Aggregated Values:Sort the categories based on their aggregated values in ascending or descending order. This indicates the relationship between the category and the target variable.\n",
    "# Assign Ordinal Labels:Assign labels or ordinal values to the categories based on their order according to the aggregated values. The category with the highest average (or lowest, depending on the goal) would be assigned the highest label, and so on.\n",
    "# Example:Consider a machine learning project involving predicting the risk level of loans for a financial institution. You have a categorical variable \"Credit Score Category\" with labels like 'Poor,' 'Fair,' 'Good,' 'Very Good,' and 'Excellent.'\n",
    "\n",
    "# To use Target Guided Ordinal Encoding in this scenario:\n",
    "\n",
    "# Calculate the average default rates (target variable) for each 'Credit Score Category.'\n",
    "# Order the categories based on the average default rates (from highest to lowest or vice versa).\n",
    "# Assign ordinal labels based on the ordered default rates to represent the risk level: for example, 'Poor' might be labeled as 4, 'Fair' as 3, 'Good' as 2, 'Very Good' as 1, and 'Excellent' as 0, indicating decreasing risk."
   ]
  },
  {
   "cell_type": "markdown",
   "id": "29d8087e-3b82-49e8-9688-5a7f6e36644b",
   "metadata": {},
   "source": [
    "# Q3. Define covariance and explain why it is important in statistical analysis. How is covariance calculated?"
   ]
  },
  {
   "cell_type": "markdown",
   "id": "912d79ce-5a30-41ff-8778-e4084f25ab1e",
   "metadata": {},
   "source": [
    "# Answer-3-Covariance is a statistical measure that describes the relationship between two random variables. It measures how changes in one variable are associated with changes in another variable. In essence, it quantifies the degree to which two variables change together.\n",
    "\n",
    "# Importance of Covariance in Statistical Analysis:Relationship between Variables: Covariance indicates whether the two variables tend to increase or decrease together. A positive covariance suggests that as one variable increases, the other tends to increase as well. A negative covariance indicates that as one variable increases, the other tends to decrease.\n",
    "\n",
    "# Direction and Strength of Relationship: It gives an idea about the direction (positive or negative) and the strength of the linear relationship between variables. However, it doesn't provide information about the magnitude of the relationship, making it necessary to normalize this measure, which leads to correlation."
   ]
  },
  {
   "cell_type": "code",
   "execution_count": 1,
   "id": "2bcc5dc9-2d2f-41c2-89a1-bdd28c98c0ee",
   "metadata": {},
   "outputs": [],
   "source": [
    "import numpy as np"
   ]
  },
  {
   "cell_type": "code",
   "execution_count": 2,
   "id": "e709b6e3-3c80-4e7e-af7e-892801dd90e5",
   "metadata": {},
   "outputs": [],
   "source": [
    "data_X = np.array([1, 2, 3, 4, 5])\n",
    "data_Y = np.array([5, 4, 3, 2, 1])"
   ]
  },
  {
   "cell_type": "code",
   "execution_count": 3,
   "id": "2d28c3f9-d3c5-4309-ba63-611a29ae1326",
   "metadata": {},
   "outputs": [],
   "source": [
    "covariance = np.cov(data_X, data_Y)[0, 1]  "
   ]
  },
  {
   "cell_type": "code",
   "execution_count": 4,
   "id": "f2c27d12-7f8f-4340-8f44-7cf3d42e7612",
   "metadata": {},
   "outputs": [
    {
     "name": "stdout",
     "output_type": "stream",
     "text": [
      "The covariance between X and Y is: -2.5\n"
     ]
    }
   ],
   "source": [
    "print(f\"The covariance between X and Y is: {covariance}\")"
   ]
  },
  {
   "cell_type": "markdown",
   "id": "3b5e552d-7ad3-42de-a9c5-003a42853c87",
   "metadata": {},
   "source": [
    "# Q4. For a dataset with the following categorical variables: Color (red, green, blue), Size (small, medium, large), and Material (wood, metal, plastic), perform label encoding using Python's scikit-learn library.Show your code and explain the output."
   ]
  },
  {
   "cell_type": "code",
   "execution_count": 5,
   "id": "9391aff8-df08-4409-a585-8a932e822baa",
   "metadata": {},
   "outputs": [],
   "source": [
    "from sklearn.preprocessing import LabelEncoder\n",
    "import pandas as pd"
   ]
  },
  {
   "cell_type": "code",
   "execution_count": 6,
   "id": "81ea3e7b-dae6-425c-a2d8-cc4f5879e467",
   "metadata": {},
   "outputs": [],
   "source": [
    "data = {\n",
    "    'Color': ['red', 'green', 'blue', 'green', 'red'],\n",
    "    'Size': ['small', 'medium', 'large', 'small', 'large'],\n",
    "    'Material': ['wood', 'metal', 'plastic', 'wood', 'metal']\n",
    "}"
   ]
  },
  {
   "cell_type": "code",
   "execution_count": 7,
   "id": "119da7b0-6294-48a3-8732-3f8671b5fc90",
   "metadata": {},
   "outputs": [],
   "source": [
    "df = pd.DataFrame(data)"
   ]
  },
  {
   "cell_type": "code",
   "execution_count": 8,
   "id": "b8b172bc-10cb-44a8-8bf3-e7eae7efbaf6",
   "metadata": {},
   "outputs": [],
   "source": [
    "label_encoder = LabelEncoder()"
   ]
  },
  {
   "cell_type": "code",
   "execution_count": 9,
   "id": "a8ea468c-cef3-4c87-bab4-aa116fd97c13",
   "metadata": {},
   "outputs": [],
   "source": [
    "for col in df.columns:\n",
    "    if df[col].dtype == 'object':  # Checking for categorical columns\n",
    "        df[col + '_encoded'] = label_encoder.fit_transform(df[col])"
   ]
  },
  {
   "cell_type": "code",
   "execution_count": 10,
   "id": "c3e43b7e-81cc-4b02-9c13-e3a3451bbc3c",
   "metadata": {},
   "outputs": [
    {
     "data": {
      "text/html": [
       "<div>\n",
       "<style scoped>\n",
       "    .dataframe tbody tr th:only-of-type {\n",
       "        vertical-align: middle;\n",
       "    }\n",
       "\n",
       "    .dataframe tbody tr th {\n",
       "        vertical-align: top;\n",
       "    }\n",
       "\n",
       "    .dataframe thead th {\n",
       "        text-align: right;\n",
       "    }\n",
       "</style>\n",
       "<table border=\"1\" class=\"dataframe\">\n",
       "  <thead>\n",
       "    <tr style=\"text-align: right;\">\n",
       "      <th></th>\n",
       "      <th>Color</th>\n",
       "      <th>Size</th>\n",
       "      <th>Material</th>\n",
       "      <th>Color_encoded</th>\n",
       "      <th>Size_encoded</th>\n",
       "      <th>Material_encoded</th>\n",
       "    </tr>\n",
       "  </thead>\n",
       "  <tbody>\n",
       "    <tr>\n",
       "      <th>0</th>\n",
       "      <td>red</td>\n",
       "      <td>small</td>\n",
       "      <td>wood</td>\n",
       "      <td>2</td>\n",
       "      <td>2</td>\n",
       "      <td>2</td>\n",
       "    </tr>\n",
       "    <tr>\n",
       "      <th>1</th>\n",
       "      <td>green</td>\n",
       "      <td>medium</td>\n",
       "      <td>metal</td>\n",
       "      <td>1</td>\n",
       "      <td>1</td>\n",
       "      <td>0</td>\n",
       "    </tr>\n",
       "    <tr>\n",
       "      <th>2</th>\n",
       "      <td>blue</td>\n",
       "      <td>large</td>\n",
       "      <td>plastic</td>\n",
       "      <td>0</td>\n",
       "      <td>0</td>\n",
       "      <td>1</td>\n",
       "    </tr>\n",
       "    <tr>\n",
       "      <th>3</th>\n",
       "      <td>green</td>\n",
       "      <td>small</td>\n",
       "      <td>wood</td>\n",
       "      <td>1</td>\n",
       "      <td>2</td>\n",
       "      <td>2</td>\n",
       "    </tr>\n",
       "    <tr>\n",
       "      <th>4</th>\n",
       "      <td>red</td>\n",
       "      <td>large</td>\n",
       "      <td>metal</td>\n",
       "      <td>2</td>\n",
       "      <td>0</td>\n",
       "      <td>0</td>\n",
       "    </tr>\n",
       "  </tbody>\n",
       "</table>\n",
       "</div>"
      ],
      "text/plain": [
       "   Color    Size Material  Color_encoded  Size_encoded  Material_encoded\n",
       "0    red   small     wood              2             2                 2\n",
       "1  green  medium    metal              1             1                 0\n",
       "2   blue   large  plastic              0             0                 1\n",
       "3  green   small     wood              1             2                 2\n",
       "4    red   large    metal              2             0                 0"
      ]
     },
     "execution_count": 10,
     "metadata": {},
     "output_type": "execute_result"
    }
   ],
   "source": [
    "df"
   ]
  },
  {
   "cell_type": "markdown",
   "id": "4dcdd505-5258-40c8-a2c1-ad5fedb1d182",
   "metadata": {},
   "source": [
    "# Q5. Calculate the covariance matrix for the following variables in a dataset: Age, Income, and Education level. Interpret the results."
   ]
  },
  {
   "cell_type": "code",
   "execution_count": 11,
   "id": "353d113f-f19b-40a6-b547-c2826b1654f5",
   "metadata": {},
   "outputs": [],
   "source": [
    "#Answer-5-"
   ]
  },
  {
   "cell_type": "code",
   "execution_count": 12,
   "id": "75e31346-6374-4161-b2e1-8e1c4653991c",
   "metadata": {},
   "outputs": [
    {
     "name": "stdout",
     "output_type": "stream",
     "text": [
      "                  Color_encoded  Size_encoded  Material_encoded\n",
      "Color_encoded              0.70          0.25              0.00\n",
      "Size_encoded               0.25          1.00              0.75\n",
      "Material_encoded           0.00          0.75              1.00\n"
     ]
    },
    {
     "name": "stderr",
     "output_type": "stream",
     "text": [
      "/tmp/ipykernel_1540/81652711.py:1: FutureWarning: The default value of numeric_only in DataFrame.cov is deprecated. In a future version, it will default to False. Select only valid columns or specify the value of numeric_only to silence this warning.\n",
      "  covariance_matrix = df.cov()\n"
     ]
    }
   ],
   "source": [
    "covariance_matrix = df.cov()\n",
    "print(covariance_matrix)"
   ]
  },
  {
   "cell_type": "markdown",
   "id": "4b344c46-8452-4fd1-bf79-098e410e33f9",
   "metadata": {},
   "source": [
    "# Q6. You are working on a machine learning project with a dataset containing several categorical variables, including \"Gender\" (Male/Female), \"Education Level\" (High School/Bachelor's/Master's/PhD), and \"Employment Status\" (Unemployed/Part-Time/Full-Time). Which encoding method would you use for each variable, and why?"
   ]
  },
  {
   "cell_type": "markdown",
   "id": "e9946cd3-1a50-498a-9cab-a26899f80bfb",
   "metadata": {},
   "source": [
    "# Answer-6-In a machine learning project involving categorical variables like \"Gender,\" \"Education Level,\" and \"Employment Status,\" the choice of encoding method for each variable depends on the nature of the data within each categorical feature.\n",
    "\n",
    "# Here are the encoding methods and explanations for each variable:\n",
    "\n",
    "# Gender (Binary Categorical Variable - Nominal):Encoding Method: For \"Gender,\" a binary encoding method, such as Label Encoding or One-Hot Encoding, can be used.\n",
    "# Explanation: Since \"Gender\" has only two categories (Male/Female), binary encoding through Label Encoding (assigning 0 and 1) or One-Hot Encoding (creating one binary column) for Male/Female would effectively represent this nominal variable without implying any order or hierarchy.\n",
    "# Education Level (Categorical Variable with Order):\n",
    "\n",
    "# Encoding Method: Ordinal Encoding or Label Encoding with order could be used for \"Education Level.\"\n",
    "# Explanation: \"Education Level\" contains categories with a natural order (e.g., High School, Bachelor's, Master's, PhD). Ordinal Encoding or Label Encoding with specific label assignments (e.g., 0, 1, 2, 3) would represent the ordinal relationship between the education levels.\n",
    "# Employment Status (Categorical Variable without Order):Encoding Method: One-Hot Encoding is suitable for \"Employment Status.\"\n",
    "# Explanation: \"Employment Status\" contains categories without an inherent order (e.g., Unemployed, Part-Time, Full-Time). One-Hot Encoding would create binary columns for each category, preventing the model from assuming any order or relationship between the statuses."
   ]
  },
  {
   "cell_type": "markdown",
   "id": "a87c9f55-86c2-442e-888d-728cb9db9d7b",
   "metadata": {},
   "source": [
    "# Q7. You are analyzing a dataset with two continuous variables, \"Temperature\" and \"Humidity\", and two categorical variables, \"Weather Condition\" (Sunny/Cloudy/Rainy) and \"Wind Direction\" (North/South/East/West). Calculate the covariance between each pair of variables and interpret the results."
   ]
  },
  {
   "cell_type": "markdown",
   "id": "80e4763e-c66c-4fd0-bf9f-72099f00b132",
   "metadata": {},
   "source": [
    "# Answer-7-"
   ]
  },
  {
   "cell_type": "code",
   "execution_count": 13,
   "id": "5bc361e5-9f22-4f51-b1ad-5b370144557a",
   "metadata": {},
   "outputs": [],
   "source": [
    "data = {\n",
    "    'Temperature': [25, 27, 22, 20, 24],\n",
    "    'Humidity': [60, 65, 70, 55, 58],\n",
    "    'Weather Condition': ['Sunny', 'Cloudy', 'Rainy', 'Cloudy', 'Sunny'],\n",
    "    'Wind Direction': ['North', 'South', 'East', 'West', 'North']\n",
    "}"
   ]
  },
  {
   "cell_type": "code",
   "execution_count": 14,
   "id": "b1950569-23c5-4ce4-8cf9-0a483a551710",
   "metadata": {},
   "outputs": [],
   "source": [
    "df = pd.DataFrame(data)\n",
    "continuous_variables = df[['Temperature', 'Humidity']]\n",
    "covariance_matrix = continuous_variables.cov()"
   ]
  },
  {
   "cell_type": "code",
   "execution_count": 15,
   "id": "0a55813e-05b5-47a3-b82d-0407f5dca36f",
   "metadata": {},
   "outputs": [
    {
     "data": {
      "text/html": [
       "<div>\n",
       "<style scoped>\n",
       "    .dataframe tbody tr th:only-of-type {\n",
       "        vertical-align: middle;\n",
       "    }\n",
       "\n",
       "    .dataframe tbody tr th {\n",
       "        vertical-align: top;\n",
       "    }\n",
       "\n",
       "    .dataframe thead th {\n",
       "        text-align: right;\n",
       "    }\n",
       "</style>\n",
       "<table border=\"1\" class=\"dataframe\">\n",
       "  <thead>\n",
       "    <tr style=\"text-align: right;\">\n",
       "      <th></th>\n",
       "      <th>Temperature</th>\n",
       "      <th>Humidity</th>\n",
       "    </tr>\n",
       "  </thead>\n",
       "  <tbody>\n",
       "    <tr>\n",
       "      <th>Temperature</th>\n",
       "      <td>7.30</td>\n",
       "      <td>4.55</td>\n",
       "    </tr>\n",
       "    <tr>\n",
       "      <th>Humidity</th>\n",
       "      <td>4.55</td>\n",
       "      <td>35.30</td>\n",
       "    </tr>\n",
       "  </tbody>\n",
       "</table>\n",
       "</div>"
      ],
      "text/plain": [
       "             Temperature  Humidity\n",
       "Temperature         7.30      4.55\n",
       "Humidity            4.55     35.30"
      ]
     },
     "execution_count": 15,
     "metadata": {},
     "output_type": "execute_result"
    }
   ],
   "source": [
    "covariance_matrix"
   ]
  },
  {
   "cell_type": "markdown",
   "id": "e9a61dd0-9b53-4413-99c6-6554db406df0",
   "metadata": {},
   "source": [
    "# Assignment Completed"
   ]
  }
 ],
 "metadata": {
  "kernelspec": {
   "display_name": "Python 3 (ipykernel)",
   "language": "python",
   "name": "python3"
  },
  "language_info": {
   "codemirror_mode": {
    "name": "ipython",
    "version": 3
   },
   "file_extension": ".py",
   "mimetype": "text/x-python",
   "name": "python",
   "nbconvert_exporter": "python",
   "pygments_lexer": "ipython3",
   "version": "3.10.8"
  }
 },
 "nbformat": 4,
 "nbformat_minor": 5
}
